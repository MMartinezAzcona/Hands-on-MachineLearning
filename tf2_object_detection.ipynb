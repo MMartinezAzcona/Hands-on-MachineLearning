{
  "nbformat": 4,
  "nbformat_minor": 0,
  "metadata": {
    "colab": {
      "name": "Untitled7.ipynb",
      "provenance": [],
      "authorship_tag": "ABX9TyOC08/VG3w/mZc4wgWHzce8",
      "include_colab_link": true
    },
    "kernelspec": {
      "name": "python3",
      "display_name": "Python 3"
    },
    "language_info": {
      "name": "python"
    }
  },
  "cells": [
    {
      "cell_type": "markdown",
      "metadata": {
        "id": "view-in-github",
        "colab_type": "text"
      },
      "source": [
        "<a href=\"https://colab.research.google.com/github/MMartinezAzcona/Hands-on-MachineLearning/blob/main/tf2_object_detection.ipynb\" target=\"_parent\"><img src=\"https://colab.research.google.com/assets/colab-badge.svg\" alt=\"Open In Colab\"/></a>"
      ]
    },
    {
      "cell_type": "markdown",
      "metadata": {
        "id": "YloQxi4oSl9c"
      },
      "source": [
        "<h1><b>TensorFlow Hub Object Detection Colab </b></h1>"
      ]
    },
    {
      "cell_type": "markdown",
      "metadata": {
        "id": "YtM2BAvoTPs8"
      },
      "source": [
        "<h3><b>Imports and Setup</b></h3>"
      ]
    },
    {
      "cell_type": "code",
      "metadata": {
        "id": "SfCzssprTPXJ"
      },
      "source": [
        "import os\n",
        "import pathlib\n",
        "\n",
        "import matplotlib\n",
        "import matplotlib.pyplot as plt\n",
        "\n",
        "import io\n",
        "import scipy.misc\n",
        "import numpy as np\n",
        "from six import BytesIO\n",
        "from PIL import Image, ImageDraw, ImageFont\n",
        "from six.moves.urllib.request import urlopen\n",
        "\n",
        "import tensorflow as tf\n",
        "import tensorflow_hub as hub\n",
        "\n",
        "tf.get_logger().setLevel('ERROR')"
      ],
      "execution_count": 2,
      "outputs": []
    },
    {
      "cell_type": "markdown",
      "metadata": {
        "id": "EDjwflRpToQw"
      },
      "source": [
        "<h3><b>Utilities</b></h3>"
      ]
    },
    {
      "cell_type": "markdown",
      "metadata": {
        "id": "HOeu2OpNVVUw"
      },
      "source": [
        "Running the following cell will create some utils that will be needed later:\n",
        "<ul type='circle'>\n",
        "  <li>Helper method to load an image</li>\n",
        "  <li>Map of Model Name to TF Hub handle</li>\n",
        "  <li>List of tuples with Human Keypoints for COCO2017 dataset. This is needed for models with keyponts</li>\n"
      ]
    },
    {
      "cell_type": "code",
      "metadata": {
        "id": "VWsYZSliVVLQ"
      },
      "source": [
        ""
      ],
      "execution_count": null,
      "outputs": []
    },
    {
      "cell_type": "code",
      "metadata": {
        "id": "sBeaLNJPVU8c"
      },
      "source": [
        ""
      ],
      "execution_count": null,
      "outputs": []
    },
    {
      "cell_type": "code",
      "metadata": {
        "id": "PxmPxWHiRLTO"
      },
      "source": [
        ""
      ],
      "execution_count": null,
      "outputs": []
    }
  ]
}